{
 "cells": [
  {
   "cell_type": "code",
   "execution_count": 1,
   "id": "98c6b2a7",
   "metadata": {},
   "outputs": [],
   "source": [
    "import os\n",
    "import copy\n",
    "import folium\n",
    "import flickrapi\n",
    "import pandas as pd\n",
    "import urllib.request\n",
    "import geopandas as gpd\n",
    "import datetime"
   ]
  },
  {
   "cell_type": "markdown",
   "id": "ca35616e",
   "metadata": {},
   "source": [
    "# MAPEX Map creation"
   ]
  },
  {
   "cell_type": "code",
   "execution_count": 2,
   "id": "91a7aaa9",
   "metadata": {},
   "outputs": [],
   "source": [
    "# Set up Flickr API\n",
    "\n",
    "# Set up API key and secret\n",
    "# not on GitHub\n",
    "\n",
    "# Set up API\n",
    "flickr = flickrapi.FlickrAPI(api_key, api_secret, format='parsed-json')"
   ]
  },
  {
   "cell_type": "markdown",
   "id": "1d895d3f",
   "metadata": {},
   "source": [
    "### Get Metadata"
   ]
  },
  {
   "cell_type": "code",
   "execution_count": 71,
   "id": "4ba8bf28",
   "metadata": {},
   "outputs": [],
   "source": [
    "# Set up API\n",
    "flickr = flickrapi.FlickrAPI(api_key, api_secret, format='parsed-json')\n",
    "\n",
    "# Define search parameters\n",
    "extras = 'url_o, geo, license, views, machine_tags, date_taken, date_upload, url_m, url_t, url_n'\n",
    "\n",
    "# Define bounding box coordinates\n",
    "bbox = '12.6159174934222271,47.0015568061715712,12.7230649836587197,47.0486549491658010'\n",
    "per_page = 250\n",
    "pages = 12\n",
    "\n",
    "full_dict_list = []\n",
    "for page in range(pages):\n",
    "    photos = flickr.photos.search(bbox=bbox, extras=extras, per_page=per_page, page=page)\n",
    "    \n",
    "    photo_dict = photos['photos']['photo']\n",
    "    \n",
    "    full_dict_list.extend(photo_dict)\n",
    "\n",
    "full_dict = {elem['id']: elem for elem in full_dict_list}\n",
    "df = pd.DataFrame(full_dict).T\n",
    "df = df[~(df.url_o.isna())]\n",
    "\n",
    "df.to_csv(\"data/metadata_new.csv\")"
   ]
  },
  {
   "cell_type": "markdown",
   "id": "b93fe763",
   "metadata": {},
   "source": [
    "### Or Load"
   ]
  },
  {
   "cell_type": "code",
   "execution_count": 3,
   "id": "09ac7bcd",
   "metadata": {},
   "outputs": [],
   "source": [
    "df = pd.read_csv(\"data/metadata_new.csv\")"
   ]
  },
  {
   "cell_type": "code",
   "execution_count": 4,
   "id": "9d1e75b9",
   "metadata": {},
   "outputs": [],
   "source": [
    "df = df.drop_duplicates(subset='title').sample(100)"
   ]
  },
  {
   "cell_type": "code",
   "execution_count": 5,
   "id": "9f0cb688",
   "metadata": {},
   "outputs": [
    {
     "data": {
      "text/plain": [
       "Index(['Unnamed: 0', 'id', 'owner', 'secret', 'server', 'farm', 'title',\n",
       "       'ispublic', 'isfriend', 'isfamily', 'license', 'dateupload',\n",
       "       'datetaken', 'datetakengranularity', 'datetakenunknown', 'views',\n",
       "       'machine_tags', 'latitude', 'longitude', 'accuracy', 'context',\n",
       "       'place_id', 'woeid', 'geo_is_public', 'geo_is_contact', 'geo_is_friend',\n",
       "       'geo_is_family', 'url_o', 'height_o', 'width_o', 'url_m', 'height_m',\n",
       "       'width_m', 'url_t', 'height_t', 'width_t', 'url_n', 'height_n',\n",
       "       'width_n'],\n",
       "      dtype='object')"
      ]
     },
     "execution_count": 5,
     "metadata": {},
     "output_type": "execute_result"
    }
   ],
   "source": [
    "df.columns"
   ]
  },
  {
   "cell_type": "markdown",
   "id": "7e8a3d2d",
   "metadata": {},
   "source": [
    "### Create data for JS"
   ]
  },
  {
   "cell_type": "code",
   "execution_count": 6,
   "id": "68eaee6f",
   "metadata": {},
   "outputs": [],
   "source": [
    "wanted = ['id', 'owner', 'datetaken', 'dateupload', 'latitude', 'longitude', 'url_o', 'url_m', 'url_n', \\\n",
    "          'title', 'height_m', 'width_m', 'height_n', 'width_n']\n",
    "df = df[wanted]"
   ]
  },
  {
   "cell_type": "markdown",
   "id": "1e4d26e5",
   "metadata": {},
   "source": [
    "### Convert for UNIX timestamp"
   ]
  },
  {
   "cell_type": "code",
   "execution_count": 7,
   "id": "2cdfe1d8",
   "metadata": {},
   "outputs": [],
   "source": [
    "df.dateupload = pd.to_datetime(df.dateupload, unit='s').dt.date.astype(str)\n",
    "df.datetaken = pd.to_datetime(df.datetaken).dt.date.astype(str)"
   ]
  },
  {
   "cell_type": "code",
   "execution_count": 8,
   "id": "f4c6edff",
   "metadata": {},
   "outputs": [],
   "source": [
    "st = ''\n",
    "def stringbuild(row):\n",
    "    s = ''\n",
    "    \n",
    "    s += '{'\n",
    "    \n",
    "    idx = row.index.tolist()\n",
    "    \n",
    "    for i, title in enumerate(idx):\n",
    "        \n",
    "        s += title\n",
    "        s += ': '\n",
    "        \n",
    "        if type(row[i]) == str:\n",
    "            s += \"'\"\n",
    "            s += str(row[i])\n",
    "            s += \"'\"\n",
    "            \n",
    "        else:\n",
    "            s += str(row[i])\n",
    "        s += ', '\n",
    "    \n",
    "    s = s[:-2]\n",
    "    s += '},\\n'\n",
    "    \n",
    "    return s\n",
    "\n",
    "\n",
    "strings = df.apply(stringbuild, axis=1)\n",
    "\n",
    "for s in strings:\n",
    "    st += s"
   ]
  },
  {
   "cell_type": "code",
   "execution_count": 9,
   "id": "0899172c",
   "metadata": {
    "scrolled": false
   },
   "outputs": [
    {
     "name": "stdout",
     "output_type": "stream",
     "text": [
      "{id: 4346687925, owner: '68222897@N00', datetaken: '2009-09-30', dateupload: '2010-02-10', latitude: 47.033836, longitude: 12.717063, url_o: 'https://live.staticflickr.com/4069/4346687925_ec2e6e6f0d_o.jpg', url_m: 'https://live.staticflickr.com/4069/4346687925_04e18fcac2.jpg', url_n: 'https://live.staticflickr.com/4069/4346687925_04e18fcac2_n.jpg', title: 'DSC_0300', height_m: 335, width_m: 500, height_n: 214, width_n: 320},\n",
      "{id: 52700206442, owner: '32368927@N02', datetaken: '2022-10-11', dateupload: '2023-02-20', latitude: 47.001852, longitude: 12.643911, url_o: 'https://live.staticflickr.com/65535/52700206442_52b2ef5ff4_o.jpg', url_m: 'https://live.staticflickr.com/65535/52700206442_c011dbd50f.jpg', url_n: 'https://live.staticflickr.com/65535/52700206442_c011dbd50f_n.jpg', title: 'Fading Light in the Austrian Alps', height_m: 333, width_m: 500, height_n: 213, width_n: 320},\n",
      "{id: 5491963157, owner: '79669681@N00', datetaken: '2011-02-18', dateupload: '2011-03-02', latitude: 47.010847, longitude: 12.636352, url_o: 'https://live.staticflickr.com/5139/5491963157_d83ab3f1ec_o.jpg', url_m: 'https://live.staticflickr.com/5139/5491963157_09be89cd1a.jpg', url_n: 'https://live.staticflickr.com/5139/5491963157_09be89cd1a_n.jpg', title: 'P1010726', height_m: 375, width_m: 500, height_n: 240, width_n: 320},\n",
      "{id: 39685011691, owner: '30240668@N06', datetaken: '2018-01-10', dateupload: '2018-01-14', latitude: 47.013568, longitude: 12.72162, url_o: 'https://live.staticflickr.com/4697/39685011691_04bf94e4fb_o.jpg', url_m: 'https://live.staticflickr.com/4697/39685011691_0dafb23351.jpg', url_n: 'https://live.staticflickr.com/4697/39685011691_0dafb23351_n.jpg', title: nan, height_m: 500, width_m: 332, height_n: 320, width_n: 213},\n",
      "{id: 14798133971, owner: '12639178@N07', datetaken: '2014-07-23', dateupload: '2014-08-01', latitude: 47.043333, longitude: 12.692777, url_o: 'https://live.staticflickr.com/2897/14798133971_b1e596d226_o.jpg', url_m: 'https://live.staticflickr.com/2897/14798133971_4efaba0154.jpg', url_n: 'https://live.staticflickr.com/2897/14798133971_4efaba0154_n.jpg', title: 'Oxytropis campestris , NGIDn1930275592', height_m: 375, width_m: 500, height_n: 240, width_n: 320},\n",
      "{id: 9526065108, owner: '46687906@N08', datetaken: '2013-08-03', dateupload: '2013-08-16', latitude: 47.04043, longitude: 12.62243, url_o: 'https://live.staticflickr.com/2828/9526065108_80f3e45cab_o.jpg', url_m: 'https://live.staticflickr.com/2828/9526065108_32bc507019.jpg', url_n: 'https://live.staticflickr.com/2828/9526065108_32bc507019_n.jpg', title: 'DSCN3097', height_m: 375, width_m: 500, height_n: 240, width_n: 320},\n",
      "{id: 4346696755, owner: '68222897@N00', datetaken: '2009-09-30', dateupload: '2010-02-10', latitude: 47.033572, longitude: 12.717025, url_o: 'https://live.staticflickr.com/4033/4346696755_961671eb58_o.jpg', url_m: 'https://live.staticflickr.com/4033/4346696755_19aaa53d6a.jpg', url_n: 'https://live.staticflickr.com/4033/4346696755_19aaa53d6a_n.jpg', title: 'DSC_0304', height_m: 335, width_m: 500, height_n: 214, width_n: 320},\n",
      "{id: 9526031262, owner: '46687906@N08', datetaken: '2013-08-03', dateupload: '2013-08-16', latitude: 47.02458, longitude: 12.626577, url_o: 'https://live.staticflickr.com/7408/9526031262_6ae523047c_o.jpg', url_m: 'https://live.staticflickr.com/7408/9526031262_753ae6b8a7.jpg', url_n: 'https://live.staticflickr.com/7408/9526031262_753ae6b8a7_n.jpg', title: 'DSCN3069', height_m: 375, width_m: 500, height_n: 240, width_n: 320},\n",
      "{id: 6137413184, owner: '17027860@N00', datetaken: '2011-08-25', dateupload: '2011-09-11', latitude: 47.003045, longitude: 12.620114, url_o: 'https://live.staticflickr.com/6086/6137413184_fe06615bb4_o.jpg', url_m: 'https://live.staticflickr.com/6086/6137413184_f1dd0f7a78.jpg', url_n: 'https://live.staticflickr.com/6086/6137413184_f1dd0f7a78_n.jpg', title: 'Austria 44', height_m: 375, width_m: 500, height_n: 240, width_n: 320},\n",
      "{id: 14987637696, owner: '40357032@N00', datetaken: '2014-08-18', dateupload: '2014-08-23', latitude: 47.031904, longitude: 12.690217, url_o: 'https://live.staticflickr.com/3924/14987637696_a7c7ef4ff5_o.jpg', url_m: 'https://live.staticflickr.com/3924/14987637696_eac8341a00.jpg', url_n: 'https://live.staticflickr.com/3924/14987637696_eac8341a00_n.jpg', title: '_DSC3789.jpg', height_m: 331, width_m: 500, height_n: 212, width_n: 320},\n",
      "{id: 20197417926, owner: '135218235@N05', datetaken: '2015-07-10', dateupload: '2015-08-02', latitude: 47.026555, longitude: 12.716186, url_o: 'https://live.staticflickr.com/264/20197417926_e4139ddb31_o.jpg', url_m: 'https://live.staticflickr.com/264/20197417926_3bea274447.jpg', url_n: 'https://live.staticflickr.com/264/20197417926_3bea274447_n.jpg', title: 'IMG_4902', height_m: 334, width_m: 500, height_n: 214, width_n: 320},\n",
      "{id: 3443392873, owner: '46656862@N00', datetaken: '2008-07-03', dateupload: '2009-04-15', latitude: 47.032597, longitude: 12.720941, url_o: 'https://live.staticflickr.com/3539/3443392873_7b82019e71_o.jpg', url_m: 'https://live.staticflickr.com/3539/3443392873_708cd6c599.jpg', url_n: 'https://live.staticflickr.com/3539/3443392873_708cd6c599_n.jpg', title: 'IMG_0739', height_m: 281, width_m: 500, height_n: 180, width_n: 320},\n",
      "{id: 29448604145, owner: '144379012@N05', datetaken: '2016-06-07', dateupload: '2016-09-04', latitude: 47.021458, longitude: 12.688105, url_o: 'https://live.staticflickr.com/8152/29448604145_be8fb012c1_o.jpg', url_m: 'https://live.staticflickr.com/8152/29448604145_f7630d45f0.jpg', url_n: 'https://live.staticflickr.com/8152/29448604145_f7630d45f0_n.jpg', title: 'Lucknerhaus  Kalser Glocknerstraße', height_m: 281, width_m: 500, height_n: 180, width_n: 320},\n",
      "{id: 6137430710, owner: '17027860@N00', datetaken: '2011-08-27', dateupload: '2011-09-11', latitude: 47.003045, longitude: 12.620114, url_o: 'https://live.staticflickr.com/6204/6137430710_5ef8dee45e_o.jpg', url_m: 'https://live.staticflickr.com/6204/6137430710_c5b3552bff.jpg', url_n: 'https://live.staticflickr.com/6204/6137430710_c5b3552bff_n.jpg', title: 'Austria 250', height_m: 333, width_m: 500, height_n: 213, width_n: 320},\n",
      "{id: 14617198928, owner: '12639178@N07', datetaken: '2014-07-23', dateupload: '2014-08-01', latitude: 47.046466, longitude: 12.686044, url_o: 'https://live.staticflickr.com/2896/14617198928_f761b4e367_o.jpg', url_m: 'https://live.staticflickr.com/2896/14617198928_2faf6d659e.jpg', url_n: 'https://live.staticflickr.com/2896/14617198928_2faf6d659e_n.jpg', title: 'Salix reticulata - Netzweide , NGID1280571258', height_m: 375, width_m: 500, height_n: 240, width_n: 320},\n",
      "{id: 6137422066, owner: '17027860@N00', datetaken: '2011-08-27', dateupload: '2011-09-11', latitude: 47.003045, longitude: 12.620114, url_o: 'https://live.staticflickr.com/6065/6137422066_a8426674e4_o.jpg', url_m: 'https://live.staticflickr.com/6065/6137422066_c935d7b1ca.jpg', url_n: 'https://live.staticflickr.com/6065/6137422066_c935d7b1ca_n.jpg', title: 'Austria 138', height_m: 375, width_m: 500, height_n: 240, width_n: 320},\n",
      "{id: 9526044468, owner: '46687906@N08', datetaken: '2013-08-03', dateupload: '2013-08-16', latitude: 47.025413, longitude: 12.633025, url_o: 'https://live.staticflickr.com/5454/9526044468_a4b65c15d8_o.jpg', url_m: 'https://live.staticflickr.com/5454/9526044468_cf0cfb6693.jpg', url_n: 'https://live.staticflickr.com/5454/9526044468_cf0cfb6693_n.jpg', title: 'DSCN3063', height_m: 375, width_m: 500, height_n: 240, width_n: 320},\n",
      "{id: 5491939883, owner: '79669681@N00', datetaken: '2011-02-13', dateupload: '2011-03-02', latitude: 47.011119, longitude: 12.643113, url_o: 'https://live.staticflickr.com/5139/5491939883_a43fcb72b7_o.jpg', url_m: 'https://live.staticflickr.com/5139/5491939883_3ce50e8bba.jpg', url_n: 'https://live.staticflickr.com/5139/5491939883_3ce50e8bba_n.jpg', title: 'P1010667', height_m: 375, width_m: 500, height_n: 240, width_n: 320},\n",
      "{id: 14987701646, owner: '40357032@N00', datetaken: '2014-08-18', dateupload: '2014-08-23', latitude: 47.031904, longitude: 12.690217, url_o: 'https://live.staticflickr.com/3883/14987701646_3f3d3bd2ce_o.jpg', url_m: 'https://live.staticflickr.com/3883/14987701646_b04ce58c63.jpg', url_n: 'https://live.staticflickr.com/3883/14987701646_b04ce58c63_n.jpg', title: '_DSC3917.jpg', height_m: 331, width_m: 500, height_n: 212, width_n: 320},\n",
      "{id: 13169399505, owner: '40484383@N00', datetaken: '2014-03-15', dateupload: '2014-03-15', latitude: 47.007782, longitude: 12.637483, url_o: 'https://live.staticflickr.com/2194/13169399505_95afaf7bfb_o.jpg', url_m: 'https://live.staticflickr.com/2194/13169399505_5bbd2fc739.jpg', url_n: 'https://live.staticflickr.com/2194/13169399505_5bbd2fc739_n.jpg', title: 'Mike skinning up the splitboard as we prepare to ascent to the summit! #splitboarding #grossglockner #kals #mountaineering', height_m: 500, width_m: 500, height_n: 320, width_n: 320},\n",
      "{id: 3443394635, owner: '46656862@N00', datetaken: '2008-07-03', dateupload: '2009-04-15', latitude: 47.026194, longitude: 12.704955, url_o: 'https://live.staticflickr.com/3561/3443394635_b5563f8b01_o.jpg', url_m: 'https://live.staticflickr.com/3561/3443394635_4bb3a8ef6d.jpg', url_n: 'https://live.staticflickr.com/3561/3443394635_4bb3a8ef6d_n.jpg', title: 'IMG_0744', height_m: 281, width_m: 500, height_n: 180, width_n: 320},\n",
      "{id: 14778324486, owner: '12639178@N07', datetaken: '2014-07-23', dateupload: '2014-08-01', latitude: 47.03153, longitude: 12.691522, url_o: 'https://live.staticflickr.com/3866/14778324486_768d0dd1da_o.jpg', url_m: 'https://live.staticflickr.com/3866/14778324486_7ed9412df0.jpg', url_n: 'https://live.staticflickr.com/3866/14778324486_7ed9412df0_n.jpg', title: 'Adenostyles alliariae , NGID2007590812', height_m: 375, width_m: 500, height_n: 240, width_n: 320},\n",
      "{id: 46811814041, owner: '149944526@N07', datetaken: '2017-06-24', dateupload: '2019-01-20', latitude: 47.028022, longitude: 12.689075, url_o: 'https://live.staticflickr.com/4887/46811814041_ac457afdcc_o.jpg', url_m: 'https://live.staticflickr.com/4887/46811814041_602c909db5.jpg', url_n: 'https://live.staticflickr.com/4887/46811814041_602c909db5_n.jpg', title: 'DSC05635', height_m: 333, width_m: 500, height_n: 213, width_n: 320},\n",
      "{id: 5492567152, owner: '79669681@N00', datetaken: '2011-02-18', dateupload: '2011-03-02', latitude: 47.013894, longitude: 12.619422, url_o: 'https://live.staticflickr.com/5013/5492567152_28e7255c2e_o.jpg', url_m: 'https://live.staticflickr.com/5013/5492567152_91dea26992.jpg', url_n: 'https://live.staticflickr.com/5013/5492567152_91dea26992_n.jpg', title: 'P1010740', height_m: 375, width_m: 500, height_n: 240, width_n: 320},\n",
      "{id: 9526067428, owner: '46687906@N08', datetaken: '2013-08-03', dateupload: '2013-08-16', latitude: 47.04043, longitude: 12.62243, url_o: 'https://live.staticflickr.com/7328/9526067428_97274f707f_o.jpg', url_m: 'https://live.staticflickr.com/7328/9526067428_c8736deb86.jpg', url_n: 'https://live.staticflickr.com/7328/9526067428_c8736deb86_n.jpg', title: 'DSCN3096', height_m: 375, width_m: 500, height_n: 240, width_n: 320},\n",
      "{id: 49813568687, owner: '8250978@N04', datetaken: '2020-01-02', dateupload: '2020-04-24', latitude: 47.019961, longitude: 12.718041, url_o: 'https://live.staticflickr.com/65535/49813568687_e011f48891_o.jpg', url_m: 'https://live.staticflickr.com/65535/49813568687_0661d6bc22.jpg', url_n: 'https://live.staticflickr.com/65535/49813568687_0661d6bc22_n.jpg', title: 'Flying over the Alps', height_m: 334, width_m: 500, height_n: 213, width_n: 320},\n",
      "{id: 29361982180, owner: '68222897@N00', datetaken: '2016-09-09', dateupload: '2016-09-13', latitude: 47.031055, longitude: 12.715313, url_o: 'https://live.staticflickr.com/8689/29361982180_462ca2a032_o.jpg', url_m: 'https://live.staticflickr.com/8689/29361982180_6908be4c6a.jpg', url_n: 'https://live.staticflickr.com/8689/29361982180_6908be4c6a_n.jpg', title: 'P1100752', height_m: 375, width_m: 500, height_n: 240, width_n: 320},\n",
      "{id: 21776831412, owner: '70008341@N00', datetaken: '2015-09-16', dateupload: '2015-09-28', latitude: 47.030822, longitude: 12.715472, url_o: 'https://live.staticflickr.com/5797/21776831412_5d3b161962_o.jpg', url_m: 'https://live.staticflickr.com/5797/21776831412_ee5599e44f.jpg', url_n: 'https://live.staticflickr.com/5797/21776831412_ee5599e44f_n.jpg', title: 'über Böses Weibl zur Glorer Hütte am 16.09.2015', height_m: 334, width_m: 500, height_n: 214, width_n: 320},\n",
      "{id: 6136869485, owner: '17027860@N00', datetaken: '2011-08-25', dateupload: '2011-09-11', latitude: 47.003045, longitude: 12.620114, url_o: 'https://live.staticflickr.com/6083/6136869485_32e20a5b4b_o.jpg', url_m: 'https://live.staticflickr.com/6083/6136869485_2e113bee08.jpg', url_n: 'https://live.staticflickr.com/6083/6136869485_2e113bee08_n.jpg', title: 'Austria 49', height_m: 375, width_m: 500, height_n: 240, width_n: 320},\n",
      "{id: 51882551340, owner: '30883793@N06', datetaken: '2022-02-05', dateupload: '2022-02-14', latitude: 47.01308, longitude: 12.639347, url_o: 'https://live.staticflickr.com/65535/51882551340_b75ac0038b_o.jpg', url_m: 'https://live.staticflickr.com/65535/51882551340_74454be8fc.jpg', url_n: 'https://live.staticflickr.com/65535/51882551340_74454be8fc_n.jpg', title: 'Winter in Osttirol, winter in Tyrol', height_m: 375, width_m: 500, height_n: 240, width_n: 320},\n",
      "{id: 3444208632, owner: '46656862@N00', datetaken: '2008-07-03', dateupload: '2009-04-15', latitude: 47.030519, longitude: 12.713002, url_o: 'https://live.staticflickr.com/3661/3444208632_78ee2c70af_o.jpg', url_m: 'https://live.staticflickr.com/3661/3444208632_a7f8ba823d.jpg', url_n: 'https://live.staticflickr.com/3661/3444208632_a7f8ba823d_n.jpg', title: 'IMG_0742', height_m: 281, width_m: 500, height_n: 180, width_n: 320},\n",
      "{id: 29617496786, owner: '68222897@N00', datetaken: '2016-09-10', dateupload: '2016-09-13', latitude: 47.031227, longitude: 12.715591, url_o: 'https://live.staticflickr.com/8476/29617496786_4b066a3cde_o.jpg', url_m: 'https://live.staticflickr.com/8476/29617496786_c8fd518ac9.jpg', url_n: 'https://live.staticflickr.com/8476/29617496786_c8fd518ac9_n.jpg', title: 'P1100755', height_m: 375, width_m: 500, height_n: 240, width_n: 320},\n",
      "{id: 5491953199, owner: '79669681@N00', datetaken: '2011-02-17', dateupload: '2011-03-02', latitude: 47.002055, longitude: 12.645138, url_o: 'https://live.staticflickr.com/5219/5491953199_2da0b8e219_o.jpg', url_m: 'https://live.staticflickr.com/5219/5491953199_f67da6ce45.jpg', url_n: 'https://live.staticflickr.com/5219/5491953199_f67da6ce45_n.jpg', title: 'P1010704', height_m: 375, width_m: 500, height_n: 240, width_n: 320},\n",
      "{id: 48793644587, owner: '28169156@N03', datetaken: '2019-09-13', dateupload: '2019-09-25', latitude: 47.021658, longitude: 12.689166, url_o: 'https://live.staticflickr.com/65535/48793644587_571fa917bf_o.jpg', url_m: 'https://live.staticflickr.com/65535/48793644587_d67879615a.jpg', url_n: 'https://live.staticflickr.com/65535/48793644587_d67879615a_n.jpg', title: 'Eurocopter AS350 B3 - Helicopter at work by Großglockner area', height_m: 333, width_m: 500, height_n: 213, width_n: 320},\n",
      "{id: 9523279419, owner: '46687906@N08', datetaken: '2013-08-03', dateupload: '2013-08-16', latitude: 47.04043, longitude: 12.62243, url_o: 'https://live.staticflickr.com/2854/9523279419_c342331cde_o.jpg', url_m: 'https://live.staticflickr.com/2854/9523279419_c170086d98.jpg', url_n: 'https://live.staticflickr.com/2854/9523279419_c170086d98_n.jpg', title: 'DSCN3098', height_m: 375, width_m: 500, height_n: 240, width_n: 320},\n",
      "{id: 4346708825, owner: '68222897@N00', datetaken: '2009-09-30', dateupload: '2010-02-10', latitude: 47.034205, longitude: 12.71653, url_o: 'https://live.staticflickr.com/2799/4346708825_bcd6d58187_o.jpg', url_m: 'https://live.staticflickr.com/2799/4346708825_f74bfb8d00.jpg', url_n: 'https://live.staticflickr.com/2799/4346708825_f74bfb8d00_n.jpg', title: 'DSC_0316', height_m: 335, width_m: 500, height_n: 214, width_n: 320},\n",
      "{id: 5491955985, owner: '79669681@N00', datetaken: '2011-02-17', dateupload: '2011-03-02', latitude: 47.012761, longitude: 12.627552, url_o: 'https://live.staticflickr.com/5134/5491955985_e13540c428_o.jpg', url_m: 'https://live.staticflickr.com/5134/5491955985_5853091f2f.jpg', url_n: 'https://live.staticflickr.com/5134/5491955985_5853091f2f_n.jpg', title: 'P1010708', height_m: 375, width_m: 500, height_n: 240, width_n: 320},\n",
      "{id: 14795003584, owner: '12639178@N07', datetaken: '2014-07-23', dateupload: '2014-07-31', latitude: 47.044011, longitude: 12.691022, url_o: 'https://live.staticflickr.com/3849/14795003584_bea5068a16_o.jpg', url_m: 'https://live.staticflickr.com/3849/14795003584_df64537a8e.jpg', url_n: 'https://live.staticflickr.com/3849/14795003584_df64537a8e_n.jpg', title: 'Antennaria carpatica, Detail , NGID1759837042', height_m: 500, width_m: 375, height_n: 320, width_n: 240},\n",
      "{id: 5492536926, owner: '79669681@N00', datetaken: '2011-02-13', dateupload: '2011-03-02', latitude: 47.011119, longitude: 12.643113, url_o: 'https://live.staticflickr.com/5256/5492536926_e728a72f44_o.jpg', url_m: 'https://live.staticflickr.com/5256/5492536926_722e73a638.jpg', url_n: 'https://live.staticflickr.com/5256/5492536926_722e73a638_n.jpg', title: 'P1010669', height_m: 375, width_m: 500, height_n: 240, width_n: 320},\n",
      "{id: 9520222714, owner: '46687906@N08', datetaken: '2013-08-03', dateupload: '2013-08-15', latitude: 47.048008, longitude: 12.623016, url_o: 'https://live.staticflickr.com/5488/9520222714_0f4bdf49d6_o.jpg', url_m: 'https://live.staticflickr.com/5488/9520222714_77900ff3b0.jpg', url_n: 'https://live.staticflickr.com/5488/9520222714_77900ff3b0_n.jpg', title: 'DSCN3116', height_m: 375, width_m: 500, height_n: 240, width_n: 320},\n",
      "{id: 28413140543, owner: '141011284@N03', datetaken: '2016-08-16', dateupload: '2016-08-16', latitude: 47.019388, longitude: 12.688205, url_o: 'https://live.staticflickr.com/8075/28413140543_9162dc964a_o.jpg', url_m: 'https://live.staticflickr.com/8075/28413140543_7d0bdaa646.jpg', url_n: 'https://live.staticflickr.com/8075/28413140543_7d0bdaa646_n.jpg', title: 'Kals am Großglockner 2016', height_m: 331, width_m: 500, height_n: 212, width_n: 320},\n",
      "{id: 52700206732, owner: '32368927@N02', datetaken: '2022-10-11', dateupload: '2023-02-20', latitude: 47.001852, longitude: 12.643911, url_o: 'https://live.staticflickr.com/65535/52700206732_c78c720ecd_o.jpg', url_m: 'https://live.staticflickr.com/65535/52700206732_d5a555b518.jpg', url_n: 'https://live.staticflickr.com/65535/52700206732_d5a555b518_n.jpg', title: 'Cozy Austrian Church', height_m: 500, width_m: 334, height_n: 320, width_n: 213},\n",
      "{id: 4347481856, owner: '68222897@N00', datetaken: '2009-10-01', dateupload: '2010-02-10', latitude: 47.041574, longitude: 12.710047, url_o: 'https://live.staticflickr.com/2727/4347481856_8572eb3d16_o.jpg', url_m: 'https://live.staticflickr.com/2727/4347481856_26c368bbb0.jpg', url_n: 'https://live.staticflickr.com/2727/4347481856_26c368bbb0_n.jpg', title: 'DSC_0329', height_m: 335, width_m: 500, height_n: 214, width_n: 320},\n",
      "{id: 2897618153, owner: '68222897@N00', datetaken: '2008-09-29', dateupload: '2008-09-29', latitude: 47.040419, longitude: 12.717316, url_o: 'https://live.staticflickr.com/3259/2897618153_0aac3eea83_o.jpg', url_m: 'https://live.staticflickr.com/3259/2897618153_34dfa8dc20.jpg', url_n: 'https://live.staticflickr.com/3259/2897618153_34dfa8dc20_n.jpg', title: 'Exkursion Gloerer Hütte (26/27 Sept. 2008)', height_m: 158, width_m: 500, height_n: 101, width_n: 320},\n",
      "{id: 43126889035, owner: '141011284@N03', datetaken: '2018-08-09', dateupload: '2018-08-14', latitude: 47.004538, longitude: 12.652505, url_o: 'https://live.staticflickr.com/1808/43126889035_dcd3195918_o.jpg', url_m: 'https://live.staticflickr.com/1808/43126889035_bb5b8b7c84.jpg', url_n: 'https://live.staticflickr.com/1808/43126889035_bb5b8b7c84_n.jpg', title: 'Osttirol 2018', height_m: 333, width_m: 500, height_n: 213, width_n: 320},\n",
      "{id: 9516867269, owner: '46687906@N08', datetaken: '2013-08-01', dateupload: '2013-08-15', latitude: 47.028202, longitude: 12.688938, url_o: 'https://live.staticflickr.com/2825/9516867269_1dbfe09703_o.jpg', url_m: 'https://live.staticflickr.com/2825/9516867269_1f6182eb8d.jpg', url_n: 'https://live.staticflickr.com/2825/9516867269_1f6182eb8d_n.jpg', title: 'DSCN3001', height_m: 375, width_m: 500, height_n: 240, width_n: 320},\n",
      "{id: 9519755322, owner: '46687906@N08', datetaken: '2013-08-01', dateupload: '2013-08-15', latitude: 47.039369, longitude: 12.690513, url_o: 'https://live.staticflickr.com/5338/9519755322_8e0eafe2be_o.jpg', url_m: 'https://live.staticflickr.com/5338/9519755322_de1fd870a4.jpg', url_n: 'https://live.staticflickr.com/5338/9519755322_de1fd870a4_n.jpg', title: 'DSCN3024', height_m: 375, width_m: 500, height_n: 240, width_n: 320},\n",
      "{id: 9517419927, owner: '46687906@N08', datetaken: '2013-08-03', dateupload: '2013-08-15', latitude: 47.043127, longitude: 12.622116, url_o: 'https://live.staticflickr.com/3754/9517419927_69de728f1e_o.jpg', url_m: 'https://live.staticflickr.com/3754/9517419927_b717bf854d.jpg', url_n: 'https://live.staticflickr.com/3754/9517419927_b717bf854d_n.jpg', title: 'DSCN3124', height_m: 375, width_m: 500, height_n: 240, width_n: 320},\n",
      "{id: 52700986259, owner: '32368927@N02', datetaken: '2022-10-11', dateupload: '2023-02-20', latitude: 47.001852, longitude: 12.643911, url_o: 'https://live.staticflickr.com/65535/52700986259_f1f03eaf4f_o.jpg', url_m: 'https://live.staticflickr.com/65535/52700986259_ef6a28091f.jpg', url_n: 'https://live.staticflickr.com/65535/52700986259_ef6a28091f_n.jpg', title: 'Light Falls', height_m: 281, width_m: 500, height_n: 180, width_n: 320},\n",
      "{id: 3210436420, owner: '27194299@N07', datetaken: '2009-01-17', dateupload: '2009-01-19', latitude: 47.007972, longitude: 12.654404, url_o: 'https://live.staticflickr.com/3505/3210436420_411ee4f027_o.jpg', url_m: 'https://live.staticflickr.com/3505/3210436420_26021dfd9c.jpg', url_n: 'https://live.staticflickr.com/3505/3210436420_26021dfd9c_n.jpg', title: 'Zaun im Schnee', height_m: 333, width_m: 500, height_n: 213, width_n: 320},\n",
      "{id: 9523232383, owner: '46687906@N08', datetaken: '2013-08-03', dateupload: '2013-08-16', latitude: 47.029372, longitude: 12.622911, url_o: 'https://live.staticflickr.com/5345/9523232383_f597e5cdd5_o.jpg', url_m: 'https://live.staticflickr.com/5345/9523232383_db26950138.jpg', url_n: 'https://live.staticflickr.com/5345/9523232383_db26950138_n.jpg', title: 'DSCN3076', height_m: 375, width_m: 500, height_n: 240, width_n: 320},\n",
      "{id: 3779355956, owner: '70008341@N00', datetaken: '2009-07-11', dateupload: '2009-08-01', latitude: 47.039494, longitude: 12.689727, url_o: 'https://live.staticflickr.com/3475/3779355956_809ae96d9a_o.jpg', url_m: 'https://live.staticflickr.com/3475/3779355956_1d37d173ff.jpg', url_n: 'https://live.staticflickr.com/3475/3779355956_1d37d173ff_n.jpg', title: 'Wanderung am Großglockner 11.7.2009 (95).jpg', height_m: 375, width_m: 500, height_n: 240, width_n: 320},\n",
      "{id: 29361538410, owner: '68222897@N00', datetaken: '2016-09-09', dateupload: '2016-09-13', latitude: 47.047005, longitude: 12.711002, url_o: 'https://live.staticflickr.com/8367/29361538410_2b7fd34e8f_o.jpg', url_m: 'https://live.staticflickr.com/8367/29361538410_51c63d60ae.jpg', url_n: 'https://live.staticflickr.com/8367/29361538410_51c63d60ae_n.jpg', title: 'Exkursion Alpen 2016', height_m: 375, width_m: 500, height_n: 240, width_n: 320},\n",
      "{id: 6136883711, owner: '17027860@N00', datetaken: '2011-08-27', dateupload: '2011-09-11', latitude: 47.003045, longitude: 12.620114, url_o: 'https://live.staticflickr.com/6177/6136883711_4b564ebf57_o.jpg', url_m: 'https://live.staticflickr.com/6177/6136883711_0c14e303fc.jpg', url_n: 'https://live.staticflickr.com/6177/6136883711_0c14e303fc_n.jpg', title: 'Austria 223', height_m: 333, width_m: 500, height_n: 213, width_n: 320},\n",
      "{id: 14790208401, owner: '12639178@N07', datetaken: '2014-07-23', dateupload: '2014-07-31', latitude: 47.029166, longitude: 12.690555, url_o: 'https://live.staticflickr.com/2929/14790208401_bfe7e7b673_o.jpg', url_m: 'https://live.staticflickr.com/2929/14790208401_9a2fa438e9.jpg', url_n: 'https://live.staticflickr.com/2929/14790208401_9a2fa438e9_n.jpg', title: 'Lilium bulbiferum, NGIDn800359276', height_m: 375, width_m: 500, height_n: 240, width_n: 320},\n",
      "{id: 9248176952, owner: '61614526@N08', datetaken: '2012-06-12', dateupload: '2013-07-09', latitude: 47.004238, longitude: 12.65418, url_o: 'https://live.staticflickr.com/5472/9248176952_6251c96605_o.jpg', url_m: 'https://live.staticflickr.com/5472/9248176952_8710f2e5b1.jpg', url_n: 'https://live.staticflickr.com/5472/9248176952_8710f2e5b1_n.jpg', title: 'Hängebrücke, Kals am Grossglockner (Austria)', height_m: 334, width_m: 500, height_n: 214, width_n: 320},\n",
      "{id: 9517437395, owner: '46687906@N08', datetaken: '2013-08-03', dateupload: '2013-08-15', latitude: 47.047963, longitude: 12.623022, url_o: 'https://live.staticflickr.com/5539/9517437395_4e30ee9012_o.jpg', url_m: 'https://live.staticflickr.com/5539/9517437395_83cec405da.jpg', url_n: 'https://live.staticflickr.com/5539/9517437395_83cec405da_n.jpg', title: 'DSCN3115', height_m: 375, width_m: 500, height_n: 240, width_n: 320},\n",
      "{id: 5293602659, owner: '55842399@N05', datetaken: '2010-07-01', dateupload: '2010-12-26', latitude: 47.001994, longitude: 12.645542, url_o: 'https://live.staticflickr.com/5286/5293602659_53f0f55963_o.jpg', url_m: 'https://live.staticflickr.com/5286/5293602659_849cb7fddf.jpg', url_n: 'https://live.staticflickr.com/5286/5293602659_849cb7fddf_n.jpg', title: 'Catarates de Grossglockner (Austria)', height_m: 282, width_m: 500, height_n: 180, width_n: 320},\n",
      "{id: 32935988168, owner: '149944526@N07', datetaken: '2017-06-24', dateupload: '2019-01-20', latitude: 47.026033, longitude: 12.690025, url_o: 'https://live.staticflickr.com/7814/32935988168_5ebfdf2d66_o.jpg', url_m: 'https://live.staticflickr.com/7814/32935988168_1014d375e8.jpg', url_n: 'https://live.staticflickr.com/7814/32935988168_1014d375e8_n.jpg', title: 'DSC05609', height_m: 333, width_m: 500, height_n: 213, width_n: 320},\n",
      "{id: 5491952721, owner: '79669681@N00', datetaken: '2011-02-17', dateupload: '2011-03-02', latitude: 47.002055, longitude: 12.645138, url_o: 'https://live.staticflickr.com/5291/5491952721_525511f531_o.jpg', url_m: 'https://live.staticflickr.com/5291/5491952721_730cc19b86.jpg', url_n: 'https://live.staticflickr.com/5291/5491952721_730cc19b86_n.jpg', title: 'P1010703', height_m: 375, width_m: 500, height_n: 240, width_n: 320},\n",
      "{id: 9516896625, owner: '46687906@N08', datetaken: '2013-08-01', dateupload: '2013-08-15', latitude: 47.022652, longitude: 12.6861, url_o: 'https://live.staticflickr.com/5467/9516896625_f91f8d90e5_o.jpg', url_m: 'https://live.staticflickr.com/5467/9516896625_b9cb31efbc.jpg', url_n: 'https://live.staticflickr.com/5467/9516896625_b9cb31efbc_n.jpg', title: 'DSCN2985', height_m: 375, width_m: 500, height_n: 240, width_n: 320},\n",
      "{id: 9523267659, owner: '46687906@N08', datetaken: '2013-08-03', dateupload: '2013-08-16', latitude: 47.028127, longitude: 12.639125, url_o: 'https://live.staticflickr.com/2842/9523267659_6ae2961c2a_o.jpg', url_m: 'https://live.staticflickr.com/2842/9523267659_2e49b712db.jpg', url_n: 'https://live.staticflickr.com/2842/9523267659_2e49b712db_n.jpg', title: 'DSCN3060', height_m: 375, width_m: 500, height_n: 240, width_n: 320},\n",
      "{id: 5492549936, owner: '79669681@N00', datetaken: '2011-02-17', dateupload: '2011-03-02', latitude: 47.010055, longitude: 12.636505, url_o: 'https://live.staticflickr.com/5020/5492549936_f7b317ab0e_o.jpg', url_m: 'https://live.staticflickr.com/5020/5492549936_1f8963d0a7.jpg', url_n: 'https://live.staticflickr.com/5020/5492549936_1f8963d0a7_n.jpg', title: 'P1010706', height_m: 375, width_m: 500, height_n: 240, width_n: 320},\n",
      "{id: 3778309013, owner: '70008341@N00', datetaken: '2009-07-11', dateupload: '2009-08-01', latitude: 47.038947, longitude: 12.691658, url_o: 'https://live.staticflickr.com/3442/3778309013_6e97a22c57_o.jpg', url_m: 'https://live.staticflickr.com/3442/3778309013_61ee090374.jpg', url_n: 'https://live.staticflickr.com/3442/3778309013_61ee090374_n.jpg', title: 'Wanderung am Großglockner 11.7.2009 (08).jpg', height_m: 375, width_m: 500, height_n: 240, width_n: 320},\n",
      "{id: 9523273219, owner: '46687906@N08', datetaken: '2013-08-03', dateupload: '2013-08-16', latitude: 47.028052, longitude: 12.639091, url_o: 'https://live.staticflickr.com/5456/9523273219_ec805c33c2_o.jpg', url_m: 'https://live.staticflickr.com/5456/9523273219_8813855a88.jpg', url_n: 'https://live.staticflickr.com/5456/9523273219_8813855a88_n.jpg', title: 'DSCN3057', height_m: 333, width_m: 500, height_n: 213, width_n: 320},\n",
      "{id: 9523269773, owner: '46687906@N08', datetaken: '2013-08-03', dateupload: '2013-08-16', latitude: 47.0279, longitude: 12.639155, url_o: 'https://live.staticflickr.com/3753/9523269773_1693a0b935_o.jpg', url_m: 'https://live.staticflickr.com/3753/9523269773_1ba32631e3.jpg', url_n: 'https://live.staticflickr.com/3753/9523269773_1ba32631e3_n.jpg', title: 'DSCN3059', height_m: 375, width_m: 500, height_n: 240, width_n: 320},\n",
      "{id: 6136877353, owner: '17027860@N00', datetaken: '2011-08-27', dateupload: '2011-09-11', latitude: 47.003045, longitude: 12.620114, url_o: 'https://live.staticflickr.com/6198/6136877353_cdd33d0f74_o.jpg', url_m: 'https://live.staticflickr.com/6198/6136877353_e8da36e5b4.jpg', url_n: 'https://live.staticflickr.com/6198/6136877353_e8da36e5b4_n.jpg', title: 'Austria 143', height_m: 375, width_m: 500, height_n: 240, width_n: 320},\n",
      "{id: 51334426659, owner: '70008341@N00', datetaken: '2021-07-06', dateupload: '2021-07-25', latitude: 47.024163, longitude: 12.690211, url_o: 'https://live.staticflickr.com/65535/51334426659_9f29c9bd3c_o.jpg', url_m: 'https://live.staticflickr.com/65535/51334426659_f77463983d.jpg', url_n: 'https://live.staticflickr.com/65535/51334426659_f77463983d_n.jpg', title: 'Wanderung am Großglockner am 6.7.2021', height_m: 333, width_m: 500, height_n: 213, width_n: 320},\n",
      "{id: 9523259285, owner: '46687906@N08', datetaken: '2013-08-03', dateupload: '2013-08-16', latitude: 47.025919, longitude: 12.631205, url_o: 'https://live.staticflickr.com/2888/9523259285_e20927257d_o.jpg', url_m: 'https://live.staticflickr.com/2888/9523259285_d692fe71d6.jpg', url_n: 'https://live.staticflickr.com/2888/9523259285_d692fe71d6_n.jpg', title: 'DSCN3064', height_m: 375, width_m: 500, height_n: 240, width_n: 320},\n",
      "{id: 3209630987, owner: '27194299@N07', datetaken: '2009-01-17', dateupload: '2009-01-19', latitude: 47.007972, longitude: 12.654404, url_o: 'https://live.staticflickr.com/3096/3209630987_4bd7c9cced_o.jpg', url_m: 'https://live.staticflickr.com/3096/3209630987_dc08bdc517.jpg', url_n: 'https://live.staticflickr.com/3096/3209630987_dc08bdc517_n.jpg', title: 'Verkehrsspiegel mit Schneelandschaft', height_m: 500, width_m: 333, height_n: 320, width_n: 213},\n",
      "{id: 9523241411, owner: '46687906@N08', datetaken: '2013-08-03', dateupload: '2013-08-16', latitude: 47.02968, longitude: 12.624158, url_o: 'https://live.staticflickr.com/7360/9523241411_3cb41b1a56_o.jpg', url_m: 'https://live.staticflickr.com/7360/9523241411_25195d842d.jpg', url_n: 'https://live.staticflickr.com/7360/9523241411_25195d842d_n.jpg', title: 'DSCN3072', height_m: 375, width_m: 500, height_n: 240, width_n: 320},\n",
      "{id: 9519646636, owner: '46687906@N08', datetaken: '2013-08-01', dateupload: '2013-08-15', latitude: 47.039838, longitude: 12.69048, url_o: 'https://live.staticflickr.com/7372/9519646636_2cdddb0374_o.jpg', url_m: 'https://live.staticflickr.com/7372/9519646636_c315c937a9.jpg', url_n: 'https://live.staticflickr.com/7372/9519646636_c315c937a9_n.jpg', title: 'DSCN3013', height_m: 375, width_m: 500, height_n: 240, width_n: 320},\n",
      "{id: 4346690115, owner: '68222897@N00', datetaken: '2009-09-30', dateupload: '2010-02-10', latitude: 47.033447, longitude: 12.717091, url_o: 'https://live.staticflickr.com/2694/4346690115_922f60dd16_o.jpg', url_m: 'https://live.staticflickr.com/2694/4346690115_8bb5a8625a.jpg', url_n: 'https://live.staticflickr.com/2694/4346690115_8bb5a8625a_n.jpg', title: 'DSC_0301', height_m: 335, width_m: 500, height_n: 214, width_n: 320},\n",
      "{id: 9520240040, owner: '46687906@N08', datetaken: '2013-08-03', dateupload: '2013-08-15', latitude: 47.045038, longitude: 12.6224, url_o: 'https://live.staticflickr.com/7449/9520240040_37d6b71129_o.jpg', url_m: 'https://live.staticflickr.com/7449/9520240040_640695fcb1.jpg', url_n: 'https://live.staticflickr.com/7449/9520240040_640695fcb1_n.jpg', title: 'DSCN3106', height_m: 375, width_m: 500, height_n: 240, width_n: 320},\n",
      "{id: 30438234957, owner: '88553830@N02', datetaken: '2018-10-14', dateupload: '2018-10-14', latitude: 47.024555, longitude: 12.689372, url_o: 'https://live.staticflickr.com/1921/30438234957_c71fa1c43d_o.jpg', url_m: 'https://live.staticflickr.com/1921/30438234957_bf4b3a0b84.jpg', url_n: 'https://live.staticflickr.com/1921/30438234957_bf4b3a0b84_n.jpg', title: '20181014_121916', height_m: 281, width_m: 500, height_n: 180, width_n: 320},\n",
      "{id: 5491940465, owner: '79669681@N00', datetaken: '2011-02-13', dateupload: '2011-03-02', latitude: 47.011119, longitude: 12.643113, url_o: 'https://live.staticflickr.com/5017/5491940465_c35bb4d3cd_o.jpg', url_m: 'https://live.staticflickr.com/5017/5491940465_7f70a8a96b.jpg', url_n: 'https://live.staticflickr.com/5017/5491940465_7f70a8a96b_n.jpg', title: 'P1010668', height_m: 375, width_m: 500, height_n: 240, width_n: 320},\n",
      "{id: 2870021374, owner: '31192329@N00', datetaken: '2008-09-09', dateupload: '2008-09-19', latitude: 47.031419, longitude: 12.691376, url_o: 'https://live.staticflickr.com/3159/2870021374_a45873c292_o.jpg', url_m: 'https://live.staticflickr.com/3159/2870021374_e4b4395594.jpg', url_n: 'https://live.staticflickr.com/3159/2870021374_e4b4395594_n.jpg', title: 'View from bottom to top', height_m: 333, width_m: 500, height_n: 213, width_n: 320},\n",
      "{id: 49505693098, owner: '30883793@N06', datetaken: '2020-02-05', dateupload: '2020-02-08', latitude: 47.006833, longitude: 12.643677, url_o: 'https://live.staticflickr.com/65535/49505693098_06d731e68f_o.jpg', url_m: 'https://live.staticflickr.com/65535/49505693098_e00220b0a3.jpg', url_n: 'https://live.staticflickr.com/65535/49505693098_e00220b0a3_n.jpg', title: 'Kals, Tyrol, St. Georg and snowfall', height_m: 333, width_m: 500, height_n: 213, width_n: 320},\n",
      "{id: 5491949823, owner: '79669681@N00', datetaken: '2011-02-15', dateupload: '2011-03-02', latitude: 47.0023, longitude: 12.628605, url_o: 'https://live.staticflickr.com/5292/5491949823_54e20c251a_o.jpg', url_m: 'https://live.staticflickr.com/5292/5491949823_70f793c626.jpg', url_n: 'https://live.staticflickr.com/5292/5491949823_70f793c626_n.jpg', title: 'P1010693', height_m: 375, width_m: 500, height_n: 240, width_n: 320},\n",
      "{id: 9526010986, owner: '46687906@N08', datetaken: '2013-08-03', dateupload: '2013-08-16', latitude: 47.029769, longitude: 12.622325, url_o: 'https://live.staticflickr.com/3752/9526010986_4cbd5c23f0_o.jpg', url_m: 'https://live.staticflickr.com/3752/9526010986_b64c0e0c0a.jpg', url_n: 'https://live.staticflickr.com/3752/9526010986_b64c0e0c0a_n.jpg', title: 'DSCN3078', height_m: 375, width_m: 500, height_n: 240, width_n: 320},\n",
      "{id: 4346681935, owner: '68222897@N00', datetaken: '2009-09-29', dateupload: '2010-02-10', latitude: 47.030963, longitude: 12.715463, url_o: 'https://live.staticflickr.com/2696/4346681935_1863024aa1_o.jpg', url_m: 'https://live.staticflickr.com/2696/4346681935_d5046627d8.jpg', url_n: 'https://live.staticflickr.com/2696/4346681935_d5046627d8_n.jpg', title: 'DSC_0295', height_m: 335, width_m: 500, height_n: 214, width_n: 320},\n",
      "{id: 14828991623, owner: '12639178@N07', datetaken: '2014-07-23', dateupload: '2014-08-02', latitude: 47.048261, longitude: 12.694766, url_o: 'https://live.staticflickr.com/2911/14828991623_61d25fd0d4_o.jpg', url_m: 'https://live.staticflickr.com/2911/14828991623_9d938acc52.jpg', url_n: 'https://live.staticflickr.com/2911/14828991623_9d938acc52_n.jpg', title: 'Draba hoppeana , NGIDn1058796473', height_m: 375, width_m: 500, height_n: 240, width_n: 320},\n",
      "{id: 14823969319, owner: '40357032@N00', datetaken: '2014-08-18', dateupload: '2014-08-23', latitude: 47.031904, longitude: 12.690217, url_o: 'https://live.staticflickr.com/3920/14823969319_ba5a935163_o.jpg', url_m: 'https://live.staticflickr.com/3920/14823969319_cb6f233cce.jpg', url_n: 'https://live.staticflickr.com/3920/14823969319_cb6f233cce_n.jpg', title: '_DSC3904.jpg', height_m: 331, width_m: 500, height_n: 212, width_n: 320},\n",
      "{id: 6137420686, owner: '17027860@N00', datetaken: '2011-08-26', dateupload: '2011-09-11', latitude: 47.003045, longitude: 12.620114, url_o: 'https://live.staticflickr.com/6076/6137420686_4a5ed1093f_o.jpg', url_m: 'https://live.staticflickr.com/6076/6137420686_c47e433073.jpg', url_n: 'https://live.staticflickr.com/6076/6137420686_c47e433073_n.jpg', title: 'Austria 119', height_m: 375, width_m: 500, height_n: 240, width_n: 320},\n",
      "{id: 9517446617, owner: '46687906@N08', datetaken: '2013-08-03', dateupload: '2013-08-15', latitude: 47.045586, longitude: 12.622544, url_o: 'https://live.staticflickr.com/5484/9517446617_ee99d0368e_o.jpg', url_m: 'https://live.staticflickr.com/5484/9517446617_0546a7b561.jpg', url_n: 'https://live.staticflickr.com/5484/9517446617_0546a7b561_n.jpg', title: 'DSCN3110', height_m: 375, width_m: 500, height_n: 240, width_n: 320},\n",
      "{id: 14614675527, owner: '12639178@N07', datetaken: '2014-07-23', dateupload: '2014-08-01', latitude: 47.046466, longitude: 12.686044, url_o: 'https://live.staticflickr.com/3894/14614675527_95eb62a376_o.jpg', url_m: 'https://live.staticflickr.com/3894/14614675527_860f6fcf65.jpg', url_n: 'https://live.staticflickr.com/3894/14614675527_860f6fcf65_n.jpg', title: 'Androsace obtusifolia , NGIDn1955183805', height_m: 375, width_m: 500, height_n: 240, width_n: 320},\n",
      "{id: 9516929349, owner: '46687906@N08', datetaken: '2013-08-01', dateupload: '2013-08-15', latitude: 47.021691, longitude: 12.688413, url_o: 'https://live.staticflickr.com/5498/9516929349_d1576134d8_o.jpg', url_m: 'https://live.staticflickr.com/5498/9516929349_52eb4cddc3.jpg', url_n: 'https://live.staticflickr.com/5498/9516929349_52eb4cddc3_n.jpg', title: 'DSCN3043', height_m: 375, width_m: 500, height_n: 240, width_n: 320},\n",
      "{id: 14671414237, owner: '25957759@N00', datetaken: '2014-08-08', dateupload: '2014-08-08', latitude: 47.009407, longitude: 12.636895, url_o: 'https://live.staticflickr.com/3850/14671414237_c79905886d_o.jpg', url_m: 'https://live.staticflickr.com/3850/14671414237_0b238afd40.jpg', url_n: 'https://live.staticflickr.com/3850/14671414237_0b238afd40_n.jpg', title: 'upload', height_m: 500, width_m: 500, height_n: 320, width_n: 320},\n",
      "{id: 5492560202, owner: '79669681@N00', datetaken: '2011-02-18', dateupload: '2011-03-02', latitude: 47.010847, longitude: 12.636352, url_o: 'https://live.staticflickr.com/5095/5492560202_3b0c5a4fb2_o.jpg', url_m: 'https://live.staticflickr.com/5095/5492560202_1399d53f4f.jpg', url_n: 'https://live.staticflickr.com/5095/5492560202_1399d53f4f_n.jpg', title: 'P1010728', height_m: 375, width_m: 500, height_n: 240, width_n: 320},\n",
      "{id: 9526060646, owner: '46687906@N08', datetaken: '2013-08-03', dateupload: '2013-08-16', latitude: 47.04043, longitude: 12.62243, url_o: 'https://live.staticflickr.com/2816/9526060646_04be6b4110_o.jpg', url_m: 'https://live.staticflickr.com/2816/9526060646_4e2eaaaca3.jpg', url_n: 'https://live.staticflickr.com/2816/9526060646_4e2eaaaca3_n.jpg', title: 'DSCN3099', height_m: 375, width_m: 500, height_n: 240, width_n: 320},\n",
      "{id: 9523212049, owner: '46687906@N08', datetaken: '2013-08-03', dateupload: '2013-08-16', latitude: 47.032502, longitude: 12.621075, url_o: 'https://live.staticflickr.com/3694/9523212049_736da5373c_o.jpg', url_m: 'https://live.staticflickr.com/3694/9523212049_94999e6d6a.jpg', url_n: 'https://live.staticflickr.com/3694/9523212049_94999e6d6a_n.jpg', title: 'DSCN3086', height_m: 375, width_m: 500, height_n: 240, width_n: 320},\n",
      "{id: 9520216764, owner: '46687906@N08', datetaken: '2013-08-03', dateupload: '2013-08-15', latitude: 47.048286, longitude: 12.622969, url_o: 'https://live.staticflickr.com/2893/9520216764_fd62420e31_o.jpg', url_m: 'https://live.staticflickr.com/2893/9520216764_b304109664.jpg', url_n: 'https://live.staticflickr.com/2893/9520216764_b304109664_n.jpg', title: 'DSCN3119', height_m: 375, width_m: 500, height_n: 240, width_n: 320},\n",
      "{id: 5492565742, owner: '79669681@N00', datetaken: '2011-02-18', dateupload: '2011-03-02', latitude: 47.012363, longitude: 12.628616, url_o: 'https://live.staticflickr.com/5297/5492565742_804ae6354b_o.jpg', url_m: 'https://live.staticflickr.com/5297/5492565742_0bedd96425.jpg', url_n: 'https://live.staticflickr.com/5297/5492565742_0bedd96425_n.jpg', title: 'P1010737', height_m: 375, width_m: 500, height_n: 240, width_n: 320},\n",
      "{id: 3443390923, owner: '46656862@N00', datetaken: '2008-07-03', dateupload: '2009-04-15', latitude: 47.032725, longitude: 12.72288, url_o: 'https://live.staticflickr.com/3399/3443390923_fe1880a655_o.jpg', url_m: 'https://live.staticflickr.com/3399/3443390923_40a25578a1.jpg', url_n: 'https://live.staticflickr.com/3399/3443390923_40a25578a1_n.jpg', title: 'IMG_0734', height_m: 281, width_m: 500, height_n: 180, width_n: 320},\n",
      "{id: 4347431370, owner: '68222897@N00', datetaken: '2009-09-29', dateupload: '2010-02-10', latitude: 47.030961, longitude: 12.715466, url_o: 'https://live.staticflickr.com/4068/4347431370_c424deb77d_o.jpg', url_m: 'https://live.staticflickr.com/4068/4347431370_0824fa527e.jpg', url_n: 'https://live.staticflickr.com/4068/4347431370_0824fa527e_n.jpg', title: 'DSC_0299', height_m: 335, width_m: 500, height_n: 214, width_n: 320},\n",
      "{id: 4347460442, owner: '68222897@N00', datetaken: '2009-09-30', dateupload: '2010-02-10', latitude: 47.034238, longitude: 12.716908, url_o: 'https://live.staticflickr.com/4007/4347460442_a2fbdfdc10_o.jpg', url_m: 'https://live.staticflickr.com/4007/4347460442_a87ef6f9b7.jpg', url_n: 'https://live.staticflickr.com/4007/4347460442_a87ef6f9b7_n.jpg', title: 'DSC_0318', height_m: 335, width_m: 500, height_n: 214, width_n: 320},\n",
      "{id: 6050088733, owner: '36866991@N00', datetaken: '2011-08-14', dateupload: '2011-08-16', latitude: 47.027, longitude: 12.6925, url_o: 'https://live.staticflickr.com/6193/6050088733_7c1b342a7a_o.jpg', url_m: 'https://live.staticflickr.com/6193/6050088733_83ebbf9128.jpg', url_n: 'https://live.staticflickr.com/6193/6050088733_83ebbf9128_n.jpg', title: 'Swiss 2011', height_m: 500, width_m: 500, height_n: 320, width_n: 320},\n",
      "{id: 32023488423, owner: '30883793@N06', datetaken: '2017-02-09', dateupload: '2017-02-11', latitude: 47.015016, longitude: 12.641336, url_o: 'https://live.staticflickr.com/2285/32023488423_2cd661b011_o.jpg', url_m: 'https://live.staticflickr.com/2285/32023488423_6e1099c45a.jpg', url_n: 'https://live.staticflickr.com/2285/32023488423_6e1099c45a_n.jpg', title: 'Osttiroler Schuppen, old shed in Osttirol', height_m: 375, width_m: 500, height_n: 240, width_n: 320},\n",
      "{id: 19602708583, owner: '135218235@N05', datetaken: '2015-07-10', dateupload: '2015-08-02', latitude: 47.006722, longitude: 12.716208, url_o: 'https://live.staticflickr.com/462/19602708583_cf406c3837_o.jpg', url_m: 'https://live.staticflickr.com/462/19602708583_f9b80af95f.jpg', url_n: 'https://live.staticflickr.com/462/19602708583_f9b80af95f_n.jpg', title: 'IMG_4947', height_m: 334, width_m: 500, height_n: 214, width_n: 320},\n",
      "{id: 50400896187, owner: '51809780@N04', datetaken: '2020-09-04', dateupload: '2020-09-30', latitude: 47.029675, longitude: 12.689541, url_o: 'https://live.staticflickr.com/65535/50400896187_13c3841562_o.jpg', url_m: 'https://live.staticflickr.com/65535/50400896187_8ceea22804.jpg', url_n: 'https://live.staticflickr.com/65535/50400896187_8ceea22804_n.jpg', title: 'Lucknerhütte', height_m: 281, width_m: 500, height_n: 180, width_n: 320}\n"
     ]
    }
   ],
   "source": [
    "print(st[:-2])"
   ]
  }
 ],
 "metadata": {
  "kernelspec": {
   "display_name": "Python 3 (ipykernel)",
   "language": "python",
   "name": "python3"
  },
  "language_info": {
   "codemirror_mode": {
    "name": "ipython",
    "version": 3
   },
   "file_extension": ".py",
   "mimetype": "text/x-python",
   "name": "python",
   "nbconvert_exporter": "python",
   "pygments_lexer": "ipython3",
   "version": "3.7.16"
  }
 },
 "nbformat": 4,
 "nbformat_minor": 5
}
