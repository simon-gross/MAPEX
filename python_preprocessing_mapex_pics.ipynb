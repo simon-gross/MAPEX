{
 "cells": [
  {
   "cell_type": "code",
   "execution_count": 4,
   "id": "be8001d3",
   "metadata": {},
   "outputs": [],
   "source": [
    "import os\n",
    "import pandas as pd\n",
    "from PIL import Image"
   ]
  },
  {
   "cell_type": "markdown",
   "id": "90c37068",
   "metadata": {},
   "source": [
    "# Set paths and function\n",
    "Change the paths depending on the Folder you want to extract"
   ]
  },
  {
   "cell_type": "code",
   "execution_count": 5,
   "id": "3758d8eb",
   "metadata": {},
   "outputs": [],
   "source": [
    "def get_geotag(image_path):\n",
    "    image = Image.open(image_path)\n",
    "    exif_data = image._getexif()\n",
    "    \n",
    "    if exif_data is None:\n",
    "        return None\n",
    "    \n",
    "    for tag, value in exif_data.items():\n",
    "        if tag == 34853:  # The tag for GPSInfo\n",
    "            return value\n",
    "    \n",
    "    return None\n",
    "\n",
    "path = r\".\\data\\MAPEX_PICS\\Balsa\""
   ]
  },
  {
   "cell_type": "markdown",
   "id": "09e9b9f7",
   "metadata": {},
   "source": [
    "# Exctract Data\n",
    "For the \"if\", change the .JPEG to the relevant data extention or remove it all together if the folder is consistent."
   ]
  },
  {
   "cell_type": "code",
   "execution_count": 6,
   "id": "9e75b747",
   "metadata": {},
   "outputs": [],
   "source": [
    "d = {}\n",
    "\n",
    "for i, file in enumerate(os.listdir(path)):\n",
    "    if '.JPEG' in file:\n",
    "        image_path = os.path.join(path, file)\n",
    "        geotag = get_geotag(image_path)\n",
    "        \n",
    "        if geotag is None:\n",
    "            continue\n",
    "        \n",
    "        lat = float(geotag[2][0] + geotag[2][1] / 60 + geotag[2][2] / 3600)\n",
    "        lon = float(geotag[4][0] + geotag[4][1] / 60 + geotag[4][2] / 3600)\n",
    "        \n",
    "        \n",
    "        \n",
    "        \n",
    "        img = Image.open(image_path)\n",
    "        \n",
    "        width = img._size[0]\n",
    "        height = img._size[1]\n",
    "        \n",
    "        try:\n",
    "            date = img._getexif()[306][:10].replace(\":\", \"-\")\n",
    "        \n",
    "        except:\n",
    "            print(\"DATE DOES NOT WORK\")\n",
    "        \n",
    "        d[i] = {'latitude': lat,\n",
    "                'longitude': lon,\n",
    "                'datetaken': date,\n",
    "                'path': image_path.replace('\\\\', r\"/\"),\n",
    "                'width': width,\n",
    "                'height': height\n",
    "               }"
   ]
  },
  {
   "cell_type": "code",
   "execution_count": 7,
   "id": "277f21f8",
   "metadata": {},
   "outputs": [],
   "source": [
    "df = pd.DataFrame(d).T"
   ]
  },
  {
   "cell_type": "code",
   "execution_count": 8,
   "id": "80ade243",
   "metadata": {},
   "outputs": [
    {
     "name": "stdout",
     "output_type": "stream",
     "text": [
      "{latitude: 47.01975, longitude: 12.684380555555556, datetaken: '2023-05-13', path: './data/MAPEX_PICS/Balsa/IMG_9642.JPEG', width: 2048, height: 1536},\n",
      "{latitude: 47.01914722222222, longitude: 12.683933333333334, datetaken: '2023-05-13', path: './data/MAPEX_PICS/Balsa/IMG_9646.JPEG', width: 2048, height: 1536},\n",
      "{latitude: 47.01900833333333, longitude: 12.683897222222223, datetaken: '2023-05-13', path: './data/MAPEX_PICS/Balsa/IMG_9647.JPEG', width: 2048, height: 1536},\n",
      "{latitude: 47.01911111111111, longitude: 12.683341666666667, datetaken: '2023-05-13', path: './data/MAPEX_PICS/Balsa/IMG_9657.JPEG', width: 2048, height: 1536},\n",
      "{latitude: 47.019130555555556, longitude: 12.682488888888889, datetaken: '2023-05-13', path: './data/MAPEX_PICS/Balsa/IMG_9659.JPEG', width: 2048, height: 1536},\n",
      "{latitude: 47.019133333333336, longitude: 12.682497222222223, datetaken: '2023-05-13', path: './data/MAPEX_PICS/Balsa/IMG_9660.JPEG', width: 2048, height: 1536},\n",
      "{latitude: 47.01904722222222, longitude: 12.680947222222223, datetaken: '2023-05-13', path: './data/MAPEX_PICS/Balsa/IMG_9664.JPEG', width: 2048, height: 1536},\n",
      "{latitude: 47.01898888888889, longitude: 12.678702777777778, datetaken: '2023-05-13', path: './data/MAPEX_PICS/Balsa/IMG_9671.JPEG', width: 2048, height: 1536},\n",
      "{latitude: 47.01900555555556, longitude: 12.678363888888889, datetaken: '2023-05-13', path: './data/MAPEX_PICS/Balsa/IMG_9672.JPEG', width: 2048, height: 1536},\n",
      "{latitude: 47.01936666666667, longitude: 12.676313888888888, datetaken: '2023-05-13', path: './data/MAPEX_PICS/Balsa/IMG_9677.JPEG', width: 2048, height: 1536},\n",
      "{latitude: 47.01949722222222, longitude: 12.672716666666666, datetaken: '2023-05-13', path: './data/MAPEX_PICS/Balsa/IMG_9691.JPEG', width: 2048, height: 1536},\n",
      "{latitude: 47.01898611111111, longitude: 12.671852777777778, datetaken: '2023-05-13', path: './data/MAPEX_PICS/Balsa/IMG_9700.JPEG', width: 2048, height: 1536},\n",
      "{latitude: 47.018905555555556, longitude: 12.671902777777778, datetaken: '2023-05-13', path: './data/MAPEX_PICS/Balsa/IMG_9701.JPEG', width: 2048, height: 1536},\n",
      "{latitude: 47.01932222222222, longitude: 12.676697222222222, datetaken: '2023-05-13', path: './data/MAPEX_PICS/Balsa/IMG_9741.JPEG', width: 1536, height: 2048},\n",
      "{latitude: 47.01906944444445, longitude: 12.678061111111111, datetaken: '2023-05-13', path: './data/MAPEX_PICS/Balsa/IMG_9749.JPEG', width: 2048, height: 1536},\n",
      "{latitude: 47.01960277777778, longitude: 12.683847222222223, datetaken: '2023-05-13', path: './data/MAPEX_PICS/Balsa/IMG_9756.JPEG', width: 2048, height: 1536},\n",
      "{latitude: 47.020244444444444, longitude: 12.687722222222222, datetaken: '2023-05-13', path: './data/MAPEX_PICS/Balsa/IMG_9758.JPEG', width: 2048, height: 1536}\n"
     ]
    }
   ],
   "source": [
    "st = ''\n",
    "def stringbuild(row):\n",
    "    s = ''\n",
    "    \n",
    "    s += '{'\n",
    "    \n",
    "    idx = row.index.tolist()\n",
    "    \n",
    "    for i, title in enumerate(idx):\n",
    "        \n",
    "        s += title\n",
    "        s += ': '\n",
    "        \n",
    "        if type(row[i]) == str:\n",
    "            s += \"'\"\n",
    "            s += str(row[i])\n",
    "            s += \"'\"\n",
    "            \n",
    "        else:\n",
    "            s += str(row[i])\n",
    "        s += ', '\n",
    "    \n",
    "    s = s[:-2]\n",
    "    s += '},\\n'\n",
    "    \n",
    "    return s\n",
    "\n",
    "\n",
    "strings = df.apply(stringbuild, axis=1)\n",
    "\n",
    "for s in strings:\n",
    "    st += s\n",
    "    \n",
    "print(st[:-2])"
   ]
  }
 ],
 "metadata": {
  "kernelspec": {
   "display_name": "Python 3 (ipykernel)",
   "language": "python",
   "name": "python3"
  },
  "language_info": {
   "codemirror_mode": {
    "name": "ipython",
    "version": 3
   },
   "file_extension": ".py",
   "mimetype": "text/x-python",
   "name": "python",
   "nbconvert_exporter": "python",
   "pygments_lexer": "ipython3",
   "version": "3.7.16"
  }
 },
 "nbformat": 4,
 "nbformat_minor": 5
}
